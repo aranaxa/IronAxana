{
 "cells": [
  {
   "cell_type": "markdown",
   "id": "ae99969f",
   "metadata": {},
   "source": [
    "# Computer Vision"
   ]
  },
  {
   "cell_type": "markdown",
   "id": "6b1471c9",
   "metadata": {},
   "source": [
    "## Ethical issues with CV\n",
    "\n",
    "Examples of websites, news articles or blog that discuss ethical issues with computer vision applications:\n",
    "\n",
    "- [Google ‘fixed’ its racist algorithm by removing gorillas from its image-labeling tech](https://www.theverge.com/2018/1/12/16882408/google-racist-gorillas-photo-recognition-algorithm-ai)\n",
    "\n",
    "- [Image-recognition A.I. has a big weakness. This could be the solution](https://www.digitaltrends.com/features/adversarial-images-reinforcement-learning-weakness-solution/)\n",
    "- [Why deep-learning AIs are so easy to fool](https://www.nature.com/articles/d41586-019-03013-5)"
   ]
  },
  {
   "cell_type": "markdown",
   "id": "aec8c058",
   "metadata": {},
   "source": [
    "## Evaluation of text-to-image generation\n",
    "\n",
    "Using this [tool](https://vision-explorer.allenai.org/text_to_image_generation), I have generated an image from the following caption:\n",
    "\n",
    "<b>A cat sitting on a car next to a tree</b>\n",
    "\n",
    "<img src=\"image.png\">\n",
    "\n",
    "<u>My evaluation:</u>\n",
    "- The tree is visible, but it's behind the car, not next to it\n",
    "- The cat is blurry and can hardly be recognized as such, but it looks like it's sitting on the hood of the car\n",
    "- The shape of the car is somewhat accurate, but it has a weird pattern"
   ]
  },
  {
   "cell_type": "markdown",
   "id": "e2d8a8f1",
   "metadata": {},
   "source": [
    "## Example of building a convolutional neural network"
   ]
  },
  {
   "cell_type": "markdown",
   "id": "ccb52c75",
   "metadata": {},
   "source": [
    "Blog article: [Image Recognition: Dogs vs Cats! (92%)](https://thedatafrog.com/en/articles/dogs-vs-cats/)\n",
    "\n",
    "<u>Summary of the image processing steps:</u>\n",
    "\n",
    "1. Separate all images into two folders (one for dogs, one for cats)\n",
    "2. (Manually) check all images to spot obvious issues and clean up the dataset\n",
    "3. Turn images into batches of data arrays (using the flow_from_directory method of the ImageDataGenerator class)\n",
    "4. Create function to make sure that batches are labeled correctly\n",
    "5. Once confident, rescale all color levels to be in the range 0-1, and force image to 256x256 pixels (format just needs to be the same for all images)\n",
    "6. Data augmentation helpful to artifically increase the training sample size and limit overfitting, e.g. by randomly flipping left and right, zooming and rotating the images"
   ]
  }
 ],
 "metadata": {
  "kernelspec": {
   "display_name": "Python 3",
   "language": "python",
   "name": "python3"
  },
  "language_info": {
   "codemirror_mode": {
    "name": "ipython",
    "version": 3
   },
   "file_extension": ".py",
   "mimetype": "text/x-python",
   "name": "python",
   "nbconvert_exporter": "python",
   "pygments_lexer": "ipython3",
   "version": "3.8.8"
  },
  "toc": {
   "base_numbering": 1,
   "nav_menu": {},
   "number_sections": true,
   "sideBar": true,
   "skip_h1_title": true,
   "title_cell": "Table of Contents",
   "title_sidebar": "Contents",
   "toc_cell": false,
   "toc_position": {},
   "toc_section_display": true,
   "toc_window_display": true
  },
  "varInspector": {
   "cols": {
    "lenName": 16,
    "lenType": 16,
    "lenVar": 40
   },
   "kernels_config": {
    "python": {
     "delete_cmd_postfix": "",
     "delete_cmd_prefix": "del ",
     "library": "var_list.py",
     "varRefreshCmd": "print(var_dic_list())"
    },
    "r": {
     "delete_cmd_postfix": ") ",
     "delete_cmd_prefix": "rm(",
     "library": "var_list.r",
     "varRefreshCmd": "cat(var_dic_list()) "
    }
   },
   "types_to_exclude": [
    "module",
    "function",
    "builtin_function_or_method",
    "instance",
    "_Feature"
   ],
   "window_display": false
  }
 },
 "nbformat": 4,
 "nbformat_minor": 5
}
