{
 "cells": [
  {
   "cell_type": "markdown",
   "id": "cleared-month",
   "metadata": {
    "hide_input": true
   },
   "source": [
    "## Binary Classification with Logistic Regression "
   ]
  },
  {
   "cell_type": "markdown",
   "id": "daily-planner",
   "metadata": {},
   "source": [
    "### Import libraries "
   ]
  },
  {
   "cell_type": "code",
   "execution_count": 1,
   "id": "characteristic-flavor",
   "metadata": {},
   "outputs": [
    {
     "name": "stdout",
     "output_type": "stream",
     "text": [
      "········\n"
     ]
    }
   ],
   "source": [
    "import pandas as pd\n",
    "import numpy as np\n",
    "import seaborn as sns\n",
    "import matplotlib.pyplot as plt\n",
    "\n",
    "from sqlalchemy import create_engine \n",
    "import pymysql\n",
    "import getpass\n",
    "password = getpass.getpass()"
   ]
  },
  {
   "cell_type": "markdown",
   "id": "static-cloud",
   "metadata": {},
   "source": [
    "### Connection to SQL"
   ]
  },
  {
   "cell_type": "code",
   "execution_count": 2,
   "id": "c51146d1",
   "metadata": {},
   "outputs": [],
   "source": [
    "# Connection string\n",
    "connection_string = connection_string = \"mysql+pymysql://root:\" + password + \"@localhost/bank\"\n",
    "engine = create_engine(connection_string)"
   ]
  },
  {
   "cell_type": "code",
   "execution_count": 3,
   "id": "based-touch",
   "metadata": {},
   "outputs": [],
   "source": [
    "# Query as a dataframe\n",
    "df = pd.read_sql_query(\"\"\"\n",
    "SELECT \n",
    "    l.loan_id,\n",
    "    l.status,\n",
    "    COUNT(DISTINCT t.trans_id) AS no_of_trans,\n",
    "    DATEDIFF(19981231, CONVERT(a.date, date)) as age_in_days,\n",
    "    d.A12 AS '95_unemp',\n",
    "    d.A13 AS '96_unemp',\n",
    "    dp.type,\n",
    "    l.amount AS loan_amount,\n",
    "    c.birth_number,\n",
    "    d.A15 AS crime_95,\n",
    "    d.A16 AS crime_96,\n",
    "    ROUND((l.amount-l.payments) / l.amount, 2) AS ratio_paid\n",
    "FROM loan l\n",
    "LEFT JOIN trans t USING(account_id)\n",
    "LEFT JOIN account a USING(account_id)\n",
    "LEFT JOIN district d\n",
    "ON a.district_id = d.A1\n",
    "LEFT JOIN disp dp\n",
    "ON a.account_id = dp.account_id\n",
    "LEFT JOIN client c USING(client_id)\n",
    "WHERE l.status IN ('A', 'B') \n",
    "AND dp.type = 'OWNER'\n",
    "GROUP BY 1, 2, 4, 5, 6, 7, 8, 9, 10, 11, 12\n",
    "\"\"\", engine)"
   ]
  },
  {
   "cell_type": "code",
   "execution_count": 4,
   "id": "athletic-climate",
   "metadata": {},
   "outputs": [
    {
     "data": {
      "text/html": [
       "<div>\n",
       "<style scoped>\n",
       "    .dataframe tbody tr th:only-of-type {\n",
       "        vertical-align: middle;\n",
       "    }\n",
       "\n",
       "    .dataframe tbody tr th {\n",
       "        vertical-align: top;\n",
       "    }\n",
       "\n",
       "    .dataframe thead th {\n",
       "        text-align: right;\n",
       "    }\n",
       "</style>\n",
       "<table border=\"1\" class=\"dataframe\">\n",
       "  <thead>\n",
       "    <tr style=\"text-align: right;\">\n",
       "      <th></th>\n",
       "      <th>loan_id</th>\n",
       "      <th>status</th>\n",
       "      <th>no_of_trans</th>\n",
       "      <th>age_in_days</th>\n",
       "      <th>95_unemp</th>\n",
       "      <th>96_unemp</th>\n",
       "      <th>type</th>\n",
       "      <th>loan_amount</th>\n",
       "      <th>birth_number</th>\n",
       "      <th>crime_95</th>\n",
       "      <th>crime_96</th>\n",
       "      <th>ratio_paid</th>\n",
       "    </tr>\n",
       "  </thead>\n",
       "  <tbody>\n",
       "    <tr>\n",
       "      <th>0</th>\n",
       "      <td>4959</td>\n",
       "      <td>A</td>\n",
       "      <td>374</td>\n",
       "      <td>2134</td>\n",
       "      <td>0.29</td>\n",
       "      <td>0.43</td>\n",
       "      <td>OWNER</td>\n",
       "      <td>80952</td>\n",
       "      <td>450204</td>\n",
       "      <td>85677</td>\n",
       "      <td>99107</td>\n",
       "      <td>0.96</td>\n",
       "    </tr>\n",
       "    <tr>\n",
       "      <th>1</th>\n",
       "      <td>4961</td>\n",
       "      <td>B</td>\n",
       "      <td>259</td>\n",
       "      <td>1364</td>\n",
       "      <td>1.51</td>\n",
       "      <td>2.07</td>\n",
       "      <td>OWNER</td>\n",
       "      <td>30276</td>\n",
       "      <td>395423</td>\n",
       "      <td>2299</td>\n",
       "      <td>2354</td>\n",
       "      <td>0.92</td>\n",
       "    </tr>\n",
       "    <tr>\n",
       "      <th>2</th>\n",
       "      <td>4962</td>\n",
       "      <td>A</td>\n",
       "      <td>225</td>\n",
       "      <td>886</td>\n",
       "      <td>4.09</td>\n",
       "      <td>4.72</td>\n",
       "      <td>OWNER</td>\n",
       "      <td>30276</td>\n",
       "      <td>620209</td>\n",
       "      <td>5623</td>\n",
       "      <td>5887</td>\n",
       "      <td>0.92</td>\n",
       "    </tr>\n",
       "    <tr>\n",
       "      <th>3</th>\n",
       "      <td>4973</td>\n",
       "      <td>A</td>\n",
       "      <td>295</td>\n",
       "      <td>1534</td>\n",
       "      <td>1.12</td>\n",
       "      <td>1.54</td>\n",
       "      <td>OWNER</td>\n",
       "      <td>165960</td>\n",
       "      <td>445613</td>\n",
       "      <td>1874</td>\n",
       "      <td>1913</td>\n",
       "      <td>0.96</td>\n",
       "    </tr>\n",
       "    <tr>\n",
       "      <th>4</th>\n",
       "      <td>4986</td>\n",
       "      <td>A</td>\n",
       "      <td>209</td>\n",
       "      <td>970</td>\n",
       "      <td>4.75</td>\n",
       "      <td>5.44</td>\n",
       "      <td>OWNER</td>\n",
       "      <td>102876</td>\n",
       "      <td>420128</td>\n",
       "      <td>18782</td>\n",
       "      <td>18347</td>\n",
       "      <td>0.92</td>\n",
       "    </tr>\n",
       "  </tbody>\n",
       "</table>\n",
       "</div>"
      ],
      "text/plain": [
       "   loan_id status  no_of_trans  age_in_days  95_unemp  96_unemp   type  \\\n",
       "0     4959      A          374         2134      0.29      0.43  OWNER   \n",
       "1     4961      B          259         1364      1.51      2.07  OWNER   \n",
       "2     4962      A          225          886      4.09      4.72  OWNER   \n",
       "3     4973      A          295         1534      1.12      1.54  OWNER   \n",
       "4     4986      A          209          970      4.75      5.44  OWNER   \n",
       "\n",
       "   loan_amount  birth_number  crime_95  crime_96  ratio_paid  \n",
       "0        80952        450204     85677     99107        0.96  \n",
       "1        30276        395423      2299      2354        0.92  \n",
       "2        30276        620209      5623      5887        0.92  \n",
       "3       165960        445613      1874      1913        0.96  \n",
       "4       102876        420128     18782     18347        0.92  "
      ]
     },
     "execution_count": 4,
     "metadata": {},
     "output_type": "execute_result"
    }
   ],
   "source": [
    "# Use head to confirm the dataframe works as expected \n",
    "df.head()"
   ]
  },
  {
   "cell_type": "markdown",
   "id": "reduced-jamaica",
   "metadata": {},
   "source": [
    "### EDA - exploratory data analysis - get to know the data "
   ]
  },
  {
   "cell_type": "code",
   "execution_count": 5,
   "id": "certified-biotechnology",
   "metadata": {},
   "outputs": [
    {
     "name": "stdout",
     "output_type": "stream",
     "text": [
      "<class 'pandas.core.frame.DataFrame'>\n",
      "RangeIndex: 234 entries, 0 to 233\n",
      "Data columns (total 12 columns):\n",
      " #   Column        Non-Null Count  Dtype  \n",
      "---  ------        --------------  -----  \n",
      " 0   loan_id       234 non-null    int64  \n",
      " 1   status        234 non-null    object \n",
      " 2   no_of_trans   234 non-null    int64  \n",
      " 3   age_in_days   234 non-null    int64  \n",
      " 4   95_unemp      234 non-null    float64\n",
      " 5   96_unemp      234 non-null    float64\n",
      " 6   type          234 non-null    object \n",
      " 7   loan_amount   234 non-null    int64  \n",
      " 8   birth_number  234 non-null    int64  \n",
      " 9   crime_95      234 non-null    int64  \n",
      " 10  crime_96      234 non-null    int64  \n",
      " 11  ratio_paid    234 non-null    float64\n",
      "dtypes: float64(3), int64(7), object(2)\n",
      "memory usage: 22.1+ KB\n"
     ]
    }
   ],
   "source": [
    "df.info()"
   ]
  },
  {
   "cell_type": "code",
   "execution_count": 6,
   "id": "laughing-mediterranean",
   "metadata": {},
   "outputs": [
    {
     "data": {
      "text/html": [
       "<div>\n",
       "<style scoped>\n",
       "    .dataframe tbody tr th:only-of-type {\n",
       "        vertical-align: middle;\n",
       "    }\n",
       "\n",
       "    .dataframe tbody tr th {\n",
       "        vertical-align: top;\n",
       "    }\n",
       "\n",
       "    .dataframe thead th {\n",
       "        text-align: right;\n",
       "    }\n",
       "</style>\n",
       "<table border=\"1\" class=\"dataframe\">\n",
       "  <thead>\n",
       "    <tr style=\"text-align: right;\">\n",
       "      <th></th>\n",
       "      <th>loan_id</th>\n",
       "      <th>no_of_trans</th>\n",
       "      <th>age_in_days</th>\n",
       "      <th>95_unemp</th>\n",
       "      <th>96_unemp</th>\n",
       "      <th>loan_amount</th>\n",
       "      <th>birth_number</th>\n",
       "      <th>crime_95</th>\n",
       "      <th>crime_96</th>\n",
       "      <th>ratio_paid</th>\n",
       "    </tr>\n",
       "  </thead>\n",
       "  <tbody>\n",
       "    <tr>\n",
       "      <th>count</th>\n",
       "      <td>234.000000</td>\n",
       "      <td>234.000000</td>\n",
       "      <td>234.000000</td>\n",
       "      <td>234.000000</td>\n",
       "      <td>234.000000</td>\n",
       "      <td>234.000000</td>\n",
       "      <td>234.000000</td>\n",
       "      <td>234.000000</td>\n",
       "      <td>234.000000</td>\n",
       "      <td>234.000000</td>\n",
       "    </tr>\n",
       "    <tr>\n",
       "      <th>mean</th>\n",
       "      <td>6233.803419</td>\n",
       "      <td>317.794872</td>\n",
       "      <td>1633.615385</td>\n",
       "      <td>2.867735</td>\n",
       "      <td>3.519487</td>\n",
       "      <td>98143.435897</td>\n",
       "      <td>579128.367521</td>\n",
       "      <td>17469.858974</td>\n",
       "      <td>19639.179487</td>\n",
       "      <td>0.945513</td>\n",
       "    </tr>\n",
       "    <tr>\n",
       "      <th>std</th>\n",
       "      <td>680.590147</td>\n",
       "      <td>101.515938</td>\n",
       "      <td>458.123807</td>\n",
       "      <td>1.986507</td>\n",
       "      <td>2.266641</td>\n",
       "      <td>72013.383242</td>\n",
       "      <td>129120.756354</td>\n",
       "      <td>29906.361998</td>\n",
       "      <td>34746.947993</td>\n",
       "      <td>0.023290</td>\n",
       "    </tr>\n",
       "    <tr>\n",
       "      <th>min</th>\n",
       "      <td>4959.000000</td>\n",
       "      <td>108.000000</td>\n",
       "      <td>550.000000</td>\n",
       "      <td>0.000000</td>\n",
       "      <td>0.430000</td>\n",
       "      <td>4980.000000</td>\n",
       "      <td>350721.000000</td>\n",
       "      <td>0.000000</td>\n",
       "      <td>888.000000</td>\n",
       "      <td>0.920000</td>\n",
       "    </tr>\n",
       "    <tr>\n",
       "      <th>25%</th>\n",
       "      <td>5684.750000</td>\n",
       "      <td>228.250000</td>\n",
       "      <td>1224.250000</td>\n",
       "      <td>1.390000</td>\n",
       "      <td>1.960000</td>\n",
       "      <td>45039.000000</td>\n",
       "      <td>465172.000000</td>\n",
       "      <td>2157.500000</td>\n",
       "      <td>2252.000000</td>\n",
       "      <td>0.920000</td>\n",
       "    </tr>\n",
       "    <tr>\n",
       "      <th>50%</th>\n",
       "      <td>6300.000000</td>\n",
       "      <td>336.500000</td>\n",
       "      <td>1847.500000</td>\n",
       "      <td>2.790000</td>\n",
       "      <td>3.600000</td>\n",
       "      <td>80646.000000</td>\n",
       "      <td>580767.000000</td>\n",
       "      <td>3804.000000</td>\n",
       "      <td>3894.000000</td>\n",
       "      <td>0.960000</td>\n",
       "    </tr>\n",
       "    <tr>\n",
       "      <th>75%</th>\n",
       "      <td>6756.750000</td>\n",
       "      <td>389.500000</td>\n",
       "      <td>2029.750000</td>\n",
       "      <td>4.090000</td>\n",
       "      <td>4.772500</td>\n",
       "      <td>126960.000000</td>\n",
       "      <td>685783.750000</td>\n",
       "      <td>9878.000000</td>\n",
       "      <td>10108.000000</td>\n",
       "      <td>0.960000</td>\n",
       "    </tr>\n",
       "    <tr>\n",
       "      <th>max</th>\n",
       "      <td>7308.000000</td>\n",
       "      <td>548.000000</td>\n",
       "      <td>2178.000000</td>\n",
       "      <td>7.340000</td>\n",
       "      <td>9.400000</td>\n",
       "      <td>464520.000000</td>\n",
       "      <td>805709.000000</td>\n",
       "      <td>85677.000000</td>\n",
       "      <td>99107.000000</td>\n",
       "      <td>0.980000</td>\n",
       "    </tr>\n",
       "  </tbody>\n",
       "</table>\n",
       "</div>"
      ],
      "text/plain": [
       "           loan_id  no_of_trans  age_in_days    95_unemp    96_unemp  \\\n",
       "count   234.000000   234.000000   234.000000  234.000000  234.000000   \n",
       "mean   6233.803419   317.794872  1633.615385    2.867735    3.519487   \n",
       "std     680.590147   101.515938   458.123807    1.986507    2.266641   \n",
       "min    4959.000000   108.000000   550.000000    0.000000    0.430000   \n",
       "25%    5684.750000   228.250000  1224.250000    1.390000    1.960000   \n",
       "50%    6300.000000   336.500000  1847.500000    2.790000    3.600000   \n",
       "75%    6756.750000   389.500000  2029.750000    4.090000    4.772500   \n",
       "max    7308.000000   548.000000  2178.000000    7.340000    9.400000   \n",
       "\n",
       "         loan_amount   birth_number      crime_95      crime_96  ratio_paid  \n",
       "count     234.000000     234.000000    234.000000    234.000000  234.000000  \n",
       "mean    98143.435897  579128.367521  17469.858974  19639.179487    0.945513  \n",
       "std     72013.383242  129120.756354  29906.361998  34746.947993    0.023290  \n",
       "min      4980.000000  350721.000000      0.000000    888.000000    0.920000  \n",
       "25%     45039.000000  465172.000000   2157.500000   2252.000000    0.920000  \n",
       "50%     80646.000000  580767.000000   3804.000000   3894.000000    0.960000  \n",
       "75%    126960.000000  685783.750000   9878.000000  10108.000000    0.960000  \n",
       "max    464520.000000  805709.000000  85677.000000  99107.000000    0.980000  "
      ]
     },
     "execution_count": 6,
     "metadata": {},
     "output_type": "execute_result"
    }
   ],
   "source": [
    "df.describe()"
   ]
  },
  {
   "cell_type": "code",
   "execution_count": 7,
   "id": "silent-parallel",
   "metadata": {},
   "outputs": [
    {
     "data": {
      "text/plain": [
       "loan_id           int64\n",
       "status           object\n",
       "no_of_trans       int64\n",
       "age_in_days       int64\n",
       "95_unemp        float64\n",
       "96_unemp        float64\n",
       "type             object\n",
       "loan_amount       int64\n",
       "birth_number      int64\n",
       "crime_95          int64\n",
       "crime_96          int64\n",
       "ratio_paid      float64\n",
       "dtype: object"
      ]
     },
     "execution_count": 7,
     "metadata": {},
     "output_type": "execute_result"
    }
   ],
   "source": [
    "df.dtypes"
   ]
  },
  {
   "cell_type": "code",
   "execution_count": 8,
   "id": "bd44be68",
   "metadata": {},
   "outputs": [
    {
     "data": {
      "text/plain": [
       "array([450204, 395423, 620209, 445613, 420128, 455703, 391130, 670924,\n",
       "       400827, 471008, 421210, 405212, 565913, 510806, 556119, 610930,\n",
       "       480521, 775510, 455612, 636231, 686220, 466017, 411111, 570429,\n",
       "       755912, 575122, 405724, 475722, 680722, 405420, 570919, 635125,\n",
       "       765609, 391206, 406204, 766012, 745620, 430104, 655716, 666210,\n",
       "       400326, 706007, 790214, 805709, 565425, 400907, 581007, 626228,\n",
       "       506020, 670210, 395315, 720206, 655604, 361223, 571101, 521128,\n",
       "       641016, 525726, 351225, 515625, 456227, 540309, 575628, 635204,\n",
       "       760916, 495624, 406101, 680506, 595810, 455908, 490724, 466007,\n",
       "       515407, 565313, 675529, 610502, 715920, 350721, 726227, 640313,\n",
       "       735515, 705912, 596122, 680909, 520717, 795406, 351003, 510410,\n",
       "       631012, 805430, 536225, 406015, 561230, 495308, 575127, 721203,\n",
       "       700428, 485812, 786121, 530618, 431126, 620523, 790326, 636224,\n",
       "       680129, 570929, 640513, 620911, 575906, 705210, 406202, 380916,\n",
       "       490518, 371104, 581126, 620710, 460401, 585613, 785923, 585224,\n",
       "       766230, 765106, 465119, 666024, 760808, 710210, 765508, 445531,\n",
       "       605521, 576231, 485502, 435107, 396225, 565507, 555826, 586026,\n",
       "       721210, 500410, 685128, 490216, 580527, 450924, 705219, 516116,\n",
       "       776130, 526110, 541205, 600623, 505302, 640921, 450803, 670710,\n",
       "       720623, 411015, 685414, 456003, 686030, 651029, 696225, 765206,\n",
       "       760524, 805216, 405511, 625903, 645809, 485828, 371111, 455126,\n",
       "       490107, 426109, 710803, 465331, 805127, 556104, 655122, 575305,\n",
       "       360602, 471021, 610928, 795726, 645729, 805502, 740708, 595717,\n",
       "       445420, 720403, 486018, 515411, 441212, 370902, 415913, 711009,\n",
       "       725812, 390227, 685907, 610819, 430705, 551129, 730530, 650307,\n",
       "       591217, 581207, 790316, 405525, 600820, 641014, 530505, 560218,\n",
       "       761125, 370517, 775527, 440801, 540320, 705505, 695525, 780907,\n",
       "       760318, 740707, 410728, 700726, 635512, 590523, 630516, 765120,\n",
       "       471114, 730216, 680413, 626019])"
      ]
     },
     "execution_count": 8,
     "metadata": {},
     "output_type": "execute_result"
    }
   ],
   "source": [
    "# Show all unique values of birth_number\n",
    "df.birth_number.unique()"
   ]
  },
  {
   "cell_type": "markdown",
   "id": "48db2db8",
   "metadata": {},
   "source": [
    "### Histograms or boxplots\n",
    "\n"
   ]
  },
  {
   "cell_type": "code",
   "execution_count": 9,
   "id": "8e06f94e",
   "metadata": {},
   "outputs": [
    {
     "data": {
      "text/plain": [
       "<seaborn.axisgrid.FacetGrid at 0x7f985aa3df10>"
      ]
     },
     "execution_count": 9,
     "metadata": {},
     "output_type": "execute_result"
    },
    {
     "data": {
      "image/png": "[encoded data removed]",
      "text/plain": [
       "<Figure size 402.875x360 with 1 Axes>"
      ]
     },
     "metadata": {
      "needs_background": "light"
     },
     "output_type": "display_data"
    }
   ],
   "source": [
    "# Number of transactions with statuses A and B\n",
    "sns.displot(df, x = \"no_of_trans\", hue = \"status\")"
   ]
  },
  {
   "cell_type": "code",
   "execution_count": 10,
   "id": "d2d014e2",
   "metadata": {},
   "outputs": [
    {
     "data": {
      "text/plain": [
       "<matplotlib.axes._subplots.AxesSubplot at 0x7f985ab5a6a0>"
      ]
     },
     "execution_count": 10,
     "metadata": {},
     "output_type": "execute_result"
    },
    {
     "data": {
      "image/png": "[encoded data removed]",
      "text/plain": [
       "<Figure size 432x288 with 1 Axes>"
      ]
     },
     "metadata": {
      "needs_background": "light"
     },
     "output_type": "display_data"
    }
   ],
   "source": [
    "# Central tendency of loan_amount incl. indication of the uncertainty around that estimate using error bars\n",
    "sns.barplot(x = \"loan_amount\", y = \"status\", data = df)"
   ]
  },
  {
   "cell_type": "code",
   "execution_count": 11,
   "id": "97ffe825",
   "metadata": {},
   "outputs": [
    {
     "data": {
      "text/plain": [
       "A    203\n",
       "B     31\n",
       "Name: status, dtype: int64"
      ]
     },
     "execution_count": 11,
     "metadata": {},
     "output_type": "execute_result"
    }
   ],
   "source": [
    "# Count of values in status\n",
    "df[\"status\"].value_counts()"
   ]
  },
  {
   "cell_type": "code",
   "execution_count": 12,
   "id": "c221cfb1",
   "metadata": {},
   "outputs": [
    {
     "data": {
      "text/plain": [
       "<seaborn.axisgrid.FacetGrid at 0x7f985aad3850>"
      ]
     },
     "execution_count": 12,
     "metadata": {},
     "output_type": "execute_result"
    },
    {
     "data": {
      "image/png": "[encoded data removed]",
      "text/plain": [
       "<Figure size 360x360 with 1 Axes>"
      ]
     },
     "metadata": {
      "needs_background": "light"
     },
     "output_type": "display_data"
    }
   ],
   "source": [
    "# Count of age_in_days\n",
    "sns.displot(df[\"age_in_days\"])"
   ]
  },
  {
   "cell_type": "code",
   "execution_count": 13,
   "id": "cccec3e8",
   "metadata": {},
   "outputs": [
    {
     "data": {
      "image/png": "[encoded data removed]",
      "text/plain": [
       "<Figure size 432x288 with 1 Axes>"
      ]
     },
     "metadata": {
      "needs_background": "light"
     },
     "output_type": "display_data"
    }
   ],
   "source": [
    "# KDE (kernel density estimate) plot\n",
    "# Visualize distribution of 95_unemp and 96_unemp\n",
    "fig = sns.kdeplot(df[\"95_unemp\"], shade = True, color = \"r\")\n",
    "fig = sns.kdeplot(df[\"96_unemp\"], shade = True, color = \"b\")\n",
    "plt.show()"
   ]
  },
  {
   "cell_type": "markdown",
   "id": "d139d943",
   "metadata": {},
   "source": [
    "### Check for multicollinearity "
   ]
  },
  {
   "cell_type": "code",
   "execution_count": 14,
   "id": "4b78ead1",
   "metadata": {},
   "outputs": [
    {
     "data": {
      "image/png": "[encoded data removed]",
      "text/plain": [
       "<Figure size 720x576 with 2 Axes>"
      ]
     },
     "metadata": {
      "needs_background": "light"
     },
     "output_type": "display_data"
    }
   ],
   "source": [
    "# Calculate standard correlation coefficient and display in correlation matrix\n",
    "corr_matrix = df.corr(method = \"pearson\")\n",
    "fig, ax = plt.subplots(figsize = (10, 8))\n",
    "mask = np.triu(np.ones_like(corr_matrix, dtype = bool))\n",
    "ax = sns.heatmap(corr_matrix, mask = mask, annot = True)\n",
    "plt.show()"
   ]
  },
  {
   "cell_type": "markdown",
   "id": "responsible-drive",
   "metadata": {},
   "source": [
    "### Cleaning and wrangling steps "
   ]
  },
  {
   "cell_type": "markdown",
   "id": "b9292769",
   "metadata": {},
   "source": [
    "Possible ideas to clean and wrangle the data further:"
   ]
  },
  {
   "cell_type": "code",
   "execution_count": 38,
   "id": "professional-miniature",
   "metadata": {},
   "outputs": [],
   "source": [
    "# bucket into categories any fields \n",
    "# should we drop any columns ? (iterative process)\n",
    "# extract gender from birth_number\n",
    "# data type changes \n",
    "# drop highly correlated features \n",
    "# create avg of criminality / unempl rate \n",
    "# crime - divide by population \n",
    "# bring in any missing fields \n",
    "# change unempl into high/medium/low\n",
    "# bring in the C and D statuses - and then using a function map to good or bad \n",
    "# OR multi class regression?\n",
    "# k symbol might be worth including \n",
    "# loan duration \n",
    "\n",
    "# feature engineering - take the columns and make more useful \n",
    "\n",
    "# split the data into num and cat --- > diff options cleaning / scaling"
   ]
  },
  {
   "cell_type": "code",
   "execution_count": 16,
   "id": "2199a4c7",
   "metadata": {},
   "outputs": [],
   "source": [
    "# Drop columns loan_id and type\n",
    "df.drop([\"loan_id\", \"type\"], axis = 1, inplace = True)"
   ]
  },
  {
   "cell_type": "code",
   "execution_count": 17,
   "id": "a0e29550",
   "metadata": {},
   "outputs": [
    {
     "data": {
      "text/html": [
       "<div>\n",
       "<style scoped>\n",
       "    .dataframe tbody tr th:only-of-type {\n",
       "        vertical-align: middle;\n",
       "    }\n",
       "\n",
       "    .dataframe tbody tr th {\n",
       "        vertical-align: top;\n",
       "    }\n",
       "\n",
       "    .dataframe thead th {\n",
       "        text-align: right;\n",
       "    }\n",
       "</style>\n",
       "<table border=\"1\" class=\"dataframe\">\n",
       "  <thead>\n",
       "    <tr style=\"text-align: right;\">\n",
       "      <th></th>\n",
       "      <th>status</th>\n",
       "      <th>no_of_trans</th>\n",
       "      <th>age_in_days</th>\n",
       "      <th>95_unemp</th>\n",
       "      <th>96_unemp</th>\n",
       "      <th>loan_amount</th>\n",
       "      <th>birth_number</th>\n",
       "      <th>crime_95</th>\n",
       "      <th>crime_96</th>\n",
       "      <th>ratio_paid</th>\n",
       "    </tr>\n",
       "  </thead>\n",
       "  <tbody>\n",
       "    <tr>\n",
       "      <th>0</th>\n",
       "      <td>A</td>\n",
       "      <td>374</td>\n",
       "      <td>2134</td>\n",
       "      <td>0.29</td>\n",
       "      <td>0.43</td>\n",
       "      <td>80952</td>\n",
       "      <td>450204</td>\n",
       "      <td>85677</td>\n",
       "      <td>99107</td>\n",
       "      <td>0.96</td>\n",
       "    </tr>\n",
       "    <tr>\n",
       "      <th>1</th>\n",
       "      <td>B</td>\n",
       "      <td>259</td>\n",
       "      <td>1364</td>\n",
       "      <td>1.51</td>\n",
       "      <td>2.07</td>\n",
       "      <td>30276</td>\n",
       "      <td>395423</td>\n",
       "      <td>2299</td>\n",
       "      <td>2354</td>\n",
       "      <td>0.92</td>\n",
       "    </tr>\n",
       "    <tr>\n",
       "      <th>2</th>\n",
       "      <td>A</td>\n",
       "      <td>225</td>\n",
       "      <td>886</td>\n",
       "      <td>4.09</td>\n",
       "      <td>4.72</td>\n",
       "      <td>30276</td>\n",
       "      <td>620209</td>\n",
       "      <td>5623</td>\n",
       "      <td>5887</td>\n",
       "      <td>0.92</td>\n",
       "    </tr>\n",
       "    <tr>\n",
       "      <th>3</th>\n",
       "      <td>A</td>\n",
       "      <td>295</td>\n",
       "      <td>1534</td>\n",
       "      <td>1.12</td>\n",
       "      <td>1.54</td>\n",
       "      <td>165960</td>\n",
       "      <td>445613</td>\n",
       "      <td>1874</td>\n",
       "      <td>1913</td>\n",
       "      <td>0.96</td>\n",
       "    </tr>\n",
       "    <tr>\n",
       "      <th>4</th>\n",
       "      <td>A</td>\n",
       "      <td>209</td>\n",
       "      <td>970</td>\n",
       "      <td>4.75</td>\n",
       "      <td>5.44</td>\n",
       "      <td>102876</td>\n",
       "      <td>420128</td>\n",
       "      <td>18782</td>\n",
       "      <td>18347</td>\n",
       "      <td>0.92</td>\n",
       "    </tr>\n",
       "  </tbody>\n",
       "</table>\n",
       "</div>"
      ],
      "text/plain": [
       "  status  no_of_trans  age_in_days  95_unemp  96_unemp  loan_amount  \\\n",
       "0      A          374         2134      0.29      0.43        80952   \n",
       "1      B          259         1364      1.51      2.07        30276   \n",
       "2      A          225          886      4.09      4.72        30276   \n",
       "3      A          295         1534      1.12      1.54       165960   \n",
       "4      A          209          970      4.75      5.44       102876   \n",
       "\n",
       "   birth_number  crime_95  crime_96  ratio_paid  \n",
       "0        450204     85677     99107        0.96  \n",
       "1        395423      2299      2354        0.92  \n",
       "2        620209      5623      5887        0.92  \n",
       "3        445613      1874      1913        0.96  \n",
       "4        420128     18782     18347        0.92  "
      ]
     },
     "execution_count": 17,
     "metadata": {},
     "output_type": "execute_result"
    }
   ],
   "source": [
    "df.head()"
   ]
  },
  {
   "cell_type": "code",
   "execution_count": null,
   "id": "6176687c",
   "metadata": {},
   "outputs": [],
   "source": [
    "# Option to bring in all statuses and group into good or bad loans\n",
    "def statusgroup(x):\n",
    "    if x in [\"B\", \"D\"]:\n",
    "        return \"badloans\"\n",
    "    else:\n",
    "        return \"goodloans\"\n",
    "    \n",
    "# df['status']= list(map(statusgroup,df['status']))"
   ]
  },
  {
   "cell_type": "markdown",
   "id": "0608477c",
   "metadata": {},
   "source": [
    "### Pre-processing "
   ]
  },
  {
   "cell_type": "code",
   "execution_count": 18,
   "id": "caring-indian",
   "metadata": {},
   "outputs": [],
   "source": [
    "# label / encode categorical columns \n",
    "\n",
    "# scale numerical columns "
   ]
  },
  {
   "cell_type": "code",
   "execution_count": 19,
   "id": "e2f55b8f",
   "metadata": {},
   "outputs": [
    {
     "data": {
      "text/html": [
       "<div>\n",
       "<style scoped>\n",
       "    .dataframe tbody tr th:only-of-type {\n",
       "        vertical-align: middle;\n",
       "    }\n",
       "\n",
       "    .dataframe tbody tr th {\n",
       "        vertical-align: top;\n",
       "    }\n",
       "\n",
       "    .dataframe thead th {\n",
       "        text-align: right;\n",
       "    }\n",
       "</style>\n",
       "<table border=\"1\" class=\"dataframe\">\n",
       "  <thead>\n",
       "    <tr style=\"text-align: right;\">\n",
       "      <th></th>\n",
       "      <th>status</th>\n",
       "    </tr>\n",
       "  </thead>\n",
       "  <tbody>\n",
       "    <tr>\n",
       "      <th>0</th>\n",
       "      <td>A</td>\n",
       "    </tr>\n",
       "    <tr>\n",
       "      <th>1</th>\n",
       "      <td>B</td>\n",
       "    </tr>\n",
       "    <tr>\n",
       "      <th>2</th>\n",
       "      <td>A</td>\n",
       "    </tr>\n",
       "    <tr>\n",
       "      <th>3</th>\n",
       "      <td>A</td>\n",
       "    </tr>\n",
       "    <tr>\n",
       "      <th>4</th>\n",
       "      <td>A</td>\n",
       "    </tr>\n",
       "  </tbody>\n",
       "</table>\n",
       "</div>"
      ],
      "text/plain": [
       "  status\n",
       "0      A\n",
       "1      B\n",
       "2      A\n",
       "3      A\n",
       "4      A"
      ]
     },
     "execution_count": 19,
     "metadata": {},
     "output_type": "execute_result"
    }
   ],
   "source": [
    "# Show categorical columns with object dtype\n",
    "cat = df.select_dtypes(include = object)\n",
    "cat.head()"
   ]
  },
  {
   "cell_type": "code",
   "execution_count": 20,
   "id": "3667ad32",
   "metadata": {},
   "outputs": [
    {
     "data": {
      "text/html": [
       "<div>\n",
       "<style scoped>\n",
       "    .dataframe tbody tr th:only-of-type {\n",
       "        vertical-align: middle;\n",
       "    }\n",
       "\n",
       "    .dataframe tbody tr th {\n",
       "        vertical-align: top;\n",
       "    }\n",
       "\n",
       "    .dataframe thead th {\n",
       "        text-align: right;\n",
       "    }\n",
       "</style>\n",
       "<table border=\"1\" class=\"dataframe\">\n",
       "  <thead>\n",
       "    <tr style=\"text-align: right;\">\n",
       "      <th></th>\n",
       "      <th>status_B</th>\n",
       "    </tr>\n",
       "  </thead>\n",
       "  <tbody>\n",
       "    <tr>\n",
       "      <th>0</th>\n",
       "      <td>0</td>\n",
       "    </tr>\n",
       "    <tr>\n",
       "      <th>1</th>\n",
       "      <td>1</td>\n",
       "    </tr>\n",
       "    <tr>\n",
       "      <th>2</th>\n",
       "      <td>0</td>\n",
       "    </tr>\n",
       "    <tr>\n",
       "      <th>3</th>\n",
       "      <td>0</td>\n",
       "    </tr>\n",
       "    <tr>\n",
       "      <th>4</th>\n",
       "      <td>0</td>\n",
       "    </tr>\n",
       "  </tbody>\n",
       "</table>\n",
       "</div>"
      ],
      "text/plain": [
       "   status_B\n",
       "0         0\n",
       "1         1\n",
       "2         0\n",
       "3         0\n",
       "4         0"
      ]
     },
     "execution_count": 20,
     "metadata": {},
     "output_type": "execute_result"
    }
   ],
   "source": [
    "# Convert categorical variable into dummy/indicator variables\n",
    "categorical = pd.get_dummies(cat, columns = [\"status\"], drop_first = True)\n",
    "categorical.head()"
   ]
  },
  {
   "cell_type": "code",
   "execution_count": 21,
   "id": "fdf4dc87",
   "metadata": {},
   "outputs": [],
   "source": [
    "# Numerical scaling\n",
    "from sklearn.preprocessing import Normalizer"
   ]
  },
  {
   "cell_type": "code",
   "execution_count": 22,
   "id": "558b152f",
   "metadata": {},
   "outputs": [],
   "source": [
    "# Select numerical features\n",
    "X = df.select_dtypes(include = np.number)"
   ]
  },
  {
   "cell_type": "code",
   "execution_count": 23,
   "id": "0f9537f3",
   "metadata": {},
   "outputs": [
    {
     "data": {
      "text/html": [
       "<div>\n",
       "<style scoped>\n",
       "    .dataframe tbody tr th:only-of-type {\n",
       "        vertical-align: middle;\n",
       "    }\n",
       "\n",
       "    .dataframe tbody tr th {\n",
       "        vertical-align: top;\n",
       "    }\n",
       "\n",
       "    .dataframe thead th {\n",
       "        text-align: right;\n",
       "    }\n",
       "</style>\n",
       "<table border=\"1\" class=\"dataframe\">\n",
       "  <thead>\n",
       "    <tr style=\"text-align: right;\">\n",
       "      <th></th>\n",
       "      <th>no_of_trans</th>\n",
       "      <th>age_in_days</th>\n",
       "      <th>95_unemp</th>\n",
       "      <th>96_unemp</th>\n",
       "      <th>loan_amount</th>\n",
       "      <th>birth_number</th>\n",
       "      <th>crime_95</th>\n",
       "      <th>crime_96</th>\n",
       "      <th>ratio_paid</th>\n",
       "    </tr>\n",
       "  </thead>\n",
       "  <tbody>\n",
       "    <tr>\n",
       "      <th>0</th>\n",
       "      <td>374</td>\n",
       "      <td>2134</td>\n",
       "      <td>0.29</td>\n",
       "      <td>0.43</td>\n",
       "      <td>80952</td>\n",
       "      <td>450204</td>\n",
       "      <td>85677</td>\n",
       "      <td>99107</td>\n",
       "      <td>0.96</td>\n",
       "    </tr>\n",
       "    <tr>\n",
       "      <th>1</th>\n",
       "      <td>259</td>\n",
       "      <td>1364</td>\n",
       "      <td>1.51</td>\n",
       "      <td>2.07</td>\n",
       "      <td>30276</td>\n",
       "      <td>395423</td>\n",
       "      <td>2299</td>\n",
       "      <td>2354</td>\n",
       "      <td>0.92</td>\n",
       "    </tr>\n",
       "    <tr>\n",
       "      <th>2</th>\n",
       "      <td>225</td>\n",
       "      <td>886</td>\n",
       "      <td>4.09</td>\n",
       "      <td>4.72</td>\n",
       "      <td>30276</td>\n",
       "      <td>620209</td>\n",
       "      <td>5623</td>\n",
       "      <td>5887</td>\n",
       "      <td>0.92</td>\n",
       "    </tr>\n",
       "    <tr>\n",
       "      <th>3</th>\n",
       "      <td>295</td>\n",
       "      <td>1534</td>\n",
       "      <td>1.12</td>\n",
       "      <td>1.54</td>\n",
       "      <td>165960</td>\n",
       "      <td>445613</td>\n",
       "      <td>1874</td>\n",
       "      <td>1913</td>\n",
       "      <td>0.96</td>\n",
       "    </tr>\n",
       "    <tr>\n",
       "      <th>4</th>\n",
       "      <td>209</td>\n",
       "      <td>970</td>\n",
       "      <td>4.75</td>\n",
       "      <td>5.44</td>\n",
       "      <td>102876</td>\n",
       "      <td>420128</td>\n",
       "      <td>18782</td>\n",
       "      <td>18347</td>\n",
       "      <td>0.92</td>\n",
       "    </tr>\n",
       "  </tbody>\n",
       "</table>\n",
       "</div>"
      ],
      "text/plain": [
       "   no_of_trans  age_in_days  95_unemp  96_unemp  loan_amount  birth_number  \\\n",
       "0          374         2134      0.29      0.43        80952        450204   \n",
       "1          259         1364      1.51      2.07        30276        395423   \n",
       "2          225          886      4.09      4.72        30276        620209   \n",
       "3          295         1534      1.12      1.54       165960        445613   \n",
       "4          209          970      4.75      5.44       102876        420128   \n",
       "\n",
       "   crime_95  crime_96  ratio_paid  \n",
       "0     85677     99107        0.96  \n",
       "1      2299      2354        0.92  \n",
       "2      5623      5887        0.92  \n",
       "3      1874      1913        0.96  \n",
       "4     18782     18347        0.92  "
      ]
     },
     "execution_count": 23,
     "metadata": {},
     "output_type": "execute_result"
    }
   ],
   "source": [
    "X.head()"
   ]
  },
  {
   "cell_type": "code",
   "execution_count": 24,
   "id": "80e0f2ca",
   "metadata": {},
   "outputs": [
    {
     "data": {
      "text/html": [
       "<div>\n",
       "<style scoped>\n",
       "    .dataframe tbody tr th:only-of-type {\n",
       "        vertical-align: middle;\n",
       "    }\n",
       "\n",
       "    .dataframe tbody tr th {\n",
       "        vertical-align: top;\n",
       "    }\n",
       "\n",
       "    .dataframe thead th {\n",
       "        text-align: right;\n",
       "    }\n",
       "</style>\n",
       "<table border=\"1\" class=\"dataframe\">\n",
       "  <thead>\n",
       "    <tr style=\"text-align: right;\">\n",
       "      <th></th>\n",
       "      <th>0</th>\n",
       "      <th>1</th>\n",
       "      <th>2</th>\n",
       "      <th>3</th>\n",
       "      <th>4</th>\n",
       "      <th>5</th>\n",
       "      <th>6</th>\n",
       "      <th>7</th>\n",
       "      <th>8</th>\n",
       "    </tr>\n",
       "  </thead>\n",
       "  <tbody>\n",
       "    <tr>\n",
       "      <th>0</th>\n",
       "      <td>0.000786</td>\n",
       "      <td>0.004485</td>\n",
       "      <td>6.094747e-07</td>\n",
       "      <td>9.037038e-07</td>\n",
       "      <td>0.170132</td>\n",
       "      <td>0.946165</td>\n",
       "      <td>0.180062</td>\n",
       "      <td>0.208287</td>\n",
       "      <td>0.000002</td>\n",
       "    </tr>\n",
       "    <tr>\n",
       "      <th>1</th>\n",
       "      <td>0.000653</td>\n",
       "      <td>0.003439</td>\n",
       "      <td>3.807397e-06</td>\n",
       "      <td>5.219411e-06</td>\n",
       "      <td>0.076340</td>\n",
       "      <td>0.997041</td>\n",
       "      <td>0.005797</td>\n",
       "      <td>0.005936</td>\n",
       "      <td>0.000002</td>\n",
       "    </tr>\n",
       "    <tr>\n",
       "      <th>2</th>\n",
       "      <td>0.000362</td>\n",
       "      <td>0.001427</td>\n",
       "      <td>6.586135e-06</td>\n",
       "      <td>7.600625e-06</td>\n",
       "      <td>0.048753</td>\n",
       "      <td>0.998724</td>\n",
       "      <td>0.009055</td>\n",
       "      <td>0.009480</td>\n",
       "      <td>0.000001</td>\n",
       "    </tr>\n",
       "    <tr>\n",
       "      <th>3</th>\n",
       "      <td>0.000620</td>\n",
       "      <td>0.003226</td>\n",
       "      <td>2.355295e-06</td>\n",
       "      <td>3.238531e-06</td>\n",
       "      <td>0.349004</td>\n",
       "      <td>0.937098</td>\n",
       "      <td>0.003941</td>\n",
       "      <td>0.004023</td>\n",
       "      <td>0.000002</td>\n",
       "    </tr>\n",
       "    <tr>\n",
       "      <th>4</th>\n",
       "      <td>0.000482</td>\n",
       "      <td>0.002238</td>\n",
       "      <td>1.096143e-05</td>\n",
       "      <td>1.255373e-05</td>\n",
       "      <td>0.237404</td>\n",
       "      <td>0.969517</td>\n",
       "      <td>0.043343</td>\n",
       "      <td>0.042339</td>\n",
       "      <td>0.000002</td>\n",
       "    </tr>\n",
       "  </tbody>\n",
       "</table>\n",
       "</div>"
      ],
      "text/plain": [
       "          0         1             2             3         4         5  \\\n",
       "0  0.000786  0.004485  6.094747e-07  9.037038e-07  0.170132  0.946165   \n",
       "1  0.000653  0.003439  3.807397e-06  5.219411e-06  0.076340  0.997041   \n",
       "2  0.000362  0.001427  6.586135e-06  7.600625e-06  0.048753  0.998724   \n",
       "3  0.000620  0.003226  2.355295e-06  3.238531e-06  0.349004  0.937098   \n",
       "4  0.000482  0.002238  1.096143e-05  1.255373e-05  0.237404  0.969517   \n",
       "\n",
       "          6         7         8  \n",
       "0  0.180062  0.208287  0.000002  \n",
       "1  0.005797  0.005936  0.000002  \n",
       "2  0.009055  0.009480  0.000001  \n",
       "3  0.003941  0.004023  0.000002  \n",
       "4  0.043343  0.042339  0.000002  "
      ]
     },
     "execution_count": 24,
     "metadata": {},
     "output_type": "execute_result"
    }
   ],
   "source": [
    "# Scaling the numerical features to be normalized (Gaussian distribution)\n",
    "# Optional with logistic regression but might help the model\n",
    "# Once we scale, we convert the array back to a dataframe\n",
    "scaler = Normalizer().fit(X)\n",
    "scaled = scaler.transform(X)\n",
    "scaled_X = pd.DataFrame(scaled)\n",
    "scaled_X.head()"
   ]
  },
  {
   "cell_type": "code",
   "execution_count": 25,
   "id": "e74339f0",
   "metadata": {},
   "outputs": [],
   "source": [
    "# If you had more categorical features than just the label (status), then we would concat:\n",
    "\n",
    "# X = np.concatenate((scaled_X, categorical), axis = 1)"
   ]
  },
  {
   "cell_type": "markdown",
   "id": "reduced-teaching",
   "metadata": {},
   "source": [
    "### Split off the dependent variable (label)"
   ]
  },
  {
   "cell_type": "code",
   "execution_count": 26,
   "id": "likely-motion",
   "metadata": {},
   "outputs": [],
   "source": [
    "# y = dependent variable - status\n",
    "y = categorical['status_B'] # small y\n",
    "\n",
    "# X = independent variables - scaled_X\n",
    "X = scaled_X # big X"
   ]
  },
  {
   "cell_type": "code",
   "execution_count": 27,
   "id": "a614e358",
   "metadata": {},
   "outputs": [
    {
     "data": {
      "text/plain": [
       "0      0\n",
       "1      1\n",
       "2      0\n",
       "3      0\n",
       "4      0\n",
       "      ..\n",
       "229    0\n",
       "230    0\n",
       "231    0\n",
       "232    0\n",
       "233    0\n",
       "Name: status_B, Length: 234, dtype: uint8"
      ]
     },
     "execution_count": 27,
     "metadata": {},
     "output_type": "execute_result"
    }
   ],
   "source": [
    "y"
   ]
  },
  {
   "cell_type": "markdown",
   "id": "improving-article",
   "metadata": {},
   "source": [
    "### Train test split, get logistic regression model"
   ]
  },
  {
   "cell_type": "code",
   "execution_count": 28,
   "id": "southwest-poster",
   "metadata": {},
   "outputs": [],
   "source": [
    "from sklearn.linear_model import LogisticRegression"
   ]
  },
  {
   "cell_type": "code",
   "execution_count": 29,
   "id": "91e5f9ba",
   "metadata": {},
   "outputs": [],
   "source": [
    "from sklearn.model_selection import train_test_split\n",
    "X_train, X_test, y_train, y_test = train_test_split(X, y, test_size = 0.3, random_state = 40)"
   ]
  },
  {
   "cell_type": "markdown",
   "id": "ruled-management",
   "metadata": {},
   "source": [
    "## Apply model and train model "
   ]
  },
  {
   "cell_type": "code",
   "execution_count": 30,
   "id": "b82f631f",
   "metadata": {},
   "outputs": [],
   "source": [
    "classification = LogisticRegression(solver = \"liblinear\", multi_class = \"ovr\").fit(X_train, y_train)"
   ]
  },
  {
   "cell_type": "code",
   "execution_count": 31,
   "id": "e47151ab",
   "metadata": {},
   "outputs": [],
   "source": [
    "# Add to the parameters as wished\n",
    "# https://scikit-learn.org/stable/modules/generated/sklearn.linear_model.LogisticRegression.html"
   ]
  },
  {
   "cell_type": "markdown",
   "id": "hydraulic-depth",
   "metadata": {},
   "source": [
    "### Evaluate accuracy and test "
   ]
  },
  {
   "cell_type": "code",
   "execution_count": 32,
   "id": "accomplished-marker",
   "metadata": {},
   "outputs": [
    {
     "name": "stdout",
     "output_type": "stream",
     "text": [
      "0.7817460317460317\n"
     ]
    }
   ],
   "source": [
    "probabilities = classification.predict_proba(X_test)\n",
    "preds = probabilities[:,1]\n",
    "\n",
    "import sklearn.metrics as metrics\n",
    "\n",
    "fpr, tpr, threshold = metrics.roc_curve(y_test, preds)\n",
    "roc_auc = metrics.auc(fpr, tpr)\n",
    "print(roc_auc)\n",
    "\n",
    "# fpr - false positive rate\n",
    "# tpr - true positive rate\n",
    "# auc - area under the curve"
   ]
  },
  {
   "cell_type": "markdown",
   "id": "faa370ec",
   "metadata": {},
   "source": [
    "#### Next steps\n",
    "\n",
    "+ Visualise the accuracy of the predictions in some ways \n",
    "\n",
    "+ Also think about: Is there something I could do to improve my model accuracy?"
   ]
  },
  {
   "cell_type": "markdown",
   "id": "double-mother",
   "metadata": {},
   "source": [
    "### Visualising accuracy - ROC / AUC "
   ]
  },
  {
   "cell_type": "code",
   "execution_count": 42,
   "id": "3556c26a",
   "metadata": {},
   "outputs": [
    {
     "data": {
      "image/png": "[encoded data removed]",
      "text/plain": [
       "<Figure size 432x288 with 1 Axes>"
      ]
     },
     "metadata": {
      "needs_background": "light"
     },
     "output_type": "display_data"
    }
   ],
   "source": [
    "# ROC (receiver operating characteristic) curve plot \n",
    "plt.title(\"Receiver Operating Characteristic\")\n",
    "plt.plot(fpr,tpr, label = \"AUC\"%roc_auc)\n",
    "plt.plot([0, 1], [0, 1], \"k--\")\n",
    "plt.xlim([0.0, 1.0])\n",
    "plt.ylim([0.0, 1.05])\n",
    "plt.ylabel(\"true positive rate\")\n",
    "plt.xlabel(\"false positive rate\")\n",
    "plt.show()"
   ]
  },
  {
   "cell_type": "markdown",
   "id": "a6e6812c",
   "metadata": {},
   "source": [
    "### Visualising accuracy - confusion matrix"
   ]
  },
  {
   "cell_type": "markdown",
   "id": "d0557d3b",
   "metadata": {},
   "source": [
    "#### Definitions \n",
    "+ tpr = true positive rate \n",
    "+ fpr = false positive rate"
   ]
  },
  {
   "cell_type": "code",
   "execution_count": 36,
   "id": "7142e0d8",
   "metadata": {},
   "outputs": [],
   "source": [
    "from sklearn.metrics import accuracy_score\n",
    "\n",
    "predictions = classification.predict(X_test)"
   ]
  },
  {
   "cell_type": "code",
   "execution_count": 37,
   "id": "2529a199",
   "metadata": {},
   "outputs": [
    {
     "data": {
      "image/png": "[encoded data removed]",
      "text/plain": [
       "<Figure size 432x288 with 2 Axes>"
      ]
     },
     "metadata": {
      "needs_background": "light"
     },
     "output_type": "display_data"
    }
   ],
   "source": [
    "from sklearn.metrics import confusion_matrix\n",
    "from sklearn.metrics import plot_confusion_matrix\n",
    "\n",
    "accuracy_score(y_test, predictions)\n",
    "confusion_matrix(y_test, predictions)\n",
    "plot_confusion_matrix(classification, X_test, y_test)\n",
    "plt.show()"
   ]
  },
  {
   "cell_type": "code",
   "execution_count": null,
   "id": "9cb1b9c7",
   "metadata": {},
   "outputs": [],
   "source": [
    "# 63 are not status B - true positive\n",
    "# 0 are not status B - false positive\n",
    "# 8 are status B - false negative\n",
    "# 0 are status B - true negative"
   ]
  },
  {
   "cell_type": "markdown",
   "id": "physical-aaron",
   "metadata": {},
   "source": [
    "### Data is highly imbalanced\n",
    "\n",
    "This is affecting the accuracy of our predictions.\n",
    "\n",
    "What can be done to resolve that?\n",
    "\n",
    "+ Option 1 - SMOTE \n",
    "\n",
    "+ Option 2 - TOMEK LINKS \n",
    "\n"
   ]
  },
  {
   "cell_type": "code",
   "execution_count": null,
   "id": "preceding-country",
   "metadata": {},
   "outputs": [],
   "source": []
  },
  {
   "cell_type": "code",
   "execution_count": null,
   "id": "f0d43fcc",
   "metadata": {},
   "outputs": [],
   "source": []
  },
  {
   "cell_type": "code",
   "execution_count": null,
   "id": "a82b0878",
   "metadata": {},
   "outputs": [],
   "source": []
  },
  {
   "cell_type": "code",
   "execution_count": null,
   "id": "ac38e164",
   "metadata": {},
   "outputs": [],
   "source": []
  }
 ],
 "metadata": {
  "kernelspec": {
   "display_name": "Python 3",
   "language": "python",
   "name": "python3"
  },
  "language_info": {
   "codemirror_mode": {
    "name": "ipython",
    "version": 3
   },
   "file_extension": ".py",
   "mimetype": "text/x-python",
   "name": "python",
   "nbconvert_exporter": "python",
   "pygments_lexer": "ipython3",
   "version": "3.8.8"
  },
  "toc": {
   "base_numbering": 1,
   "nav_menu": {},
   "number_sections": true,
   "sideBar": true,
   "skip_h1_title": false,
   "title_cell": "Table of Contents",
   "title_sidebar": "Contents",
   "toc_cell": false,
   "toc_position": {},
   "toc_section_display": true,
   "toc_window_display": false
  },
  "varInspector": {
   "cols": {
    "lenName": 16,
    "lenType": 16,
    "lenVar": 40
   },
   "kernels_config": {
    "python": {
     "delete_cmd_postfix": "",
     "delete_cmd_prefix": "del ",
     "library": "var_list.py",
     "varRefreshCmd": "print(var_dic_list())"
    },
    "r": {
     "delete_cmd_postfix": ") ",
     "delete_cmd_prefix": "rm(",
     "library": "var_list.r",
     "varRefreshCmd": "cat(var_dic_list()) "
    }
   },
   "types_to_exclude": [
    "module",
    "function",
    "builtin_function_or_method",
    "instance",
    "_Feature"
   ],
   "window_display": false
  }
 },
 "nbformat": 4,
 "nbformat_minor": 5
}
